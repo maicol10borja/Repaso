{
 "cells": [
  {
   "cell_type": "markdown",
   "id": "c804d596-50d5-4f10-ba63-6d31cdec3988",
   "metadata": {},
   "source": [
    "<img src=\"img/Recurso-26.png\" width=\"200\">\n",
    "\n",
    "## Michael Borja\n"
   ]
  },
  {
   "cell_type": "markdown",
   "id": "fd9d9d10-993e-4e54-a14f-cdafbc4a98d1",
   "metadata": {},
   "source": [
    "1. Escribe un programa que muestre por pantalla la concatenación de un número y una cadena de caracteres. Para obtener esta concatenación puedes usar uno de los operadores explicados en este tema. Ejemplo: dado el número 3 y la cadena 'abc', el programa mostrará la cadena '3abc'."
   ]
  },
  {
   "cell_type": "code",
   "execution_count": 4,
   "id": "009b40ab-791c-48d1-b222-25b2eadfbdd3",
   "metadata": {},
   "outputs": [
    {
     "name": "stdout",
     "output_type": "stream",
     "text": [
      "3abc\n"
     ]
    }
   ],
   "source": [
    "#Ejercicio 1\n",
    "\n",
    "numero=3\n",
    "cadena='abc'\n",
    "cadena=str(numero)+cadena\n",
    "print(cadena)"
   ]
  },
  {
   "cell_type": "markdown",
   "id": "d207fdd9-b340-47af-960c-478344a7e4a2",
   "metadata": {},
   "source": [
    "2. Escribe un programa que muestre por pantalla un valor booleano que indique si un número entero *N* está contenido en un intervalo semiabierto *[a,b)*, el cual establece una cota inferior *a* (inclusive) y una cota superior *b* (exclusive) para *N*."
   ]
  },
  {
   "cell_type": "code",
   "execution_count": 10,
   "id": "a9a15b58-1ffa-46ac-97d9-e76a938952fa",
   "metadata": {},
   "outputs": [
    {
     "name": "stdout",
     "output_type": "stream",
     "text": [
      "3\n",
      "<class 'int'>\n",
      "6\n",
      "<class 'int'>\n",
      "True\n"
     ]
    }
   ],
   "source": [
    "#Ejercicio 2\n",
    "\n",
    "a = 3\n",
    "b = 6\n",
    "N = 4\n",
    "\n",
    "print(a)\n",
    "print(type(a))\n",
    "\n",
    "print(b)\n",
    "print(type(b))\n",
    "\n",
    "print(a<=N<b)\n"
   ]
  },
  {
   "cell_type": "markdown",
   "id": "2b938d70-c495-40e9-9f30-17d7c4bcc6c1",
   "metadata": {},
   "source": [
    "3. Escribe un programa que, dado dos strings *S1* y *S2* y dos números enteros *N1* y *N2*, determine si el substring que en *S1* se extiende desde la posición *N1* a la *N2* (ambos inclusive) está contenido en *S2*."
   ]
  },
  {
   "cell_type": "code",
   "execution_count": 17,
   "id": "658e7d90-ea0d-455e-9eaf-2e3b04959eba",
   "metadata": {},
   "outputs": [
    {
     "name": "stdout",
     "output_type": "stream",
     "text": [
      "maquina1 maquina2\n",
      "1 2\n",
      "True\n"
     ]
    }
   ],
   "source": [
    "#Ejercicio 3\n",
    "\n",
    "s1=\"maquina1\"\n",
    "s2=\"maquina2\"\n",
    "n1=1\n",
    "n2=2\n",
    "\n",
    "print(s1,s2)\n",
    "print(n1,n2)\n",
    "\n",
    "parte = s1[n1:n2+1]\n",
    "print (parte in s2)\n"
   ]
  },
  {
   "cell_type": "markdown",
   "id": "1472a9bb-9559-4205-bf18-bb9107cdf95c",
   "metadata": {},
   "source": [
    "4. Dada una *lista* con elementos duplicados, escribir un programa que muestre una nueva *lista* con el mismo contenido que la primera pero sin elementos duplicados."
   ]
  },
  {
   "cell_type": "code",
   "execution_count": 23,
   "id": "84af2def-bd55-4dc4-a83c-ad15822c002e",
   "metadata": {},
   "outputs": [
    {
     "name": "stdout",
     "output_type": "stream",
     "text": [
      "['a', 'b', 'c']\n"
     ]
    }
   ],
   "source": [
    "#Ejercicio 4\n",
    "\n",
    "numeros = ['a', 'b', 'c', 'a', 'c']\n",
    "sin_duplicados = []\n",
    "\n",
    "for elemento in numeros:\n",
    "    if elemento not in sin_duplicados:\n",
    "        sin_duplicados.append(elemento)\n",
    "\n",
    "print(sin_duplicados)\n"
   ]
  },
  {
   "cell_type": "markdown",
   "id": "80b0bac7-1993-41de-8bf8-fd98d130d9ab",
   "metadata": {},
   "source": [
    "5. Escribe un programa que, dada una *lista* de strings *L*, un string *s* perteneciente a *L* y un string *t*, reemplace *s* por *t* en *L*. El programa debe mostrar la lista resultante por pantalla."
   ]
  },
  {
   "cell_type": "code",
   "execution_count": 25,
   "id": "e6d9a351-2dd6-4e2d-8afe-084fe3e05442",
   "metadata": {},
   "outputs": [
    {
     "name": "stdout",
     "output_type": "stream",
     "text": [
      "['naranja', 'platano', 'manzana', 'pera']\n"
     ]
    }
   ],
   "source": [
    "#Ejercicio 5\n",
    "\n",
    "L = ['durazno', 'platano', 'manzana', 'pera']\n",
    "s = 'durazno'\n",
    "t = 'naranja'\n",
    "\n",
    "for i in range(len(L)):\n",
    "    if L[i] == s:\n",
    "        L[i] = t\n",
    "\n",
    "print(L)"
   ]
  },
  {
   "cell_type": "markdown",
   "id": "00f3efdc-5200-46cb-842c-e33ea4df7175",
   "metadata": {},
   "source": [
    "6. Escribe un programa que defina una *tupla* con elementos numéricos, reemplace el valor del último por un valor diferente y muestre la *tupla* por pantalla. Recuerda que las *tuplas* son inmutables. Tendrás que usar objetos intermedios."
   ]
  },
  {
   "cell_type": "code",
   "execution_count": 36,
   "id": "560926b1-d0a6-4666-8c3c-0a1372de35ed",
   "metadata": {},
   "outputs": [
    {
     "name": "stdout",
     "output_type": "stream",
     "text": [
      "(1, 2, -1)\n"
     ]
    }
   ],
   "source": [
    "#Ejercicio 6\n",
    "\n",
    "tuple1 = (1, 2, 3)\n",
    "nuevo_valor = -1\n",
    "\n",
    "\n",
    "tupla_sin_ultimo = tuple1[:-1] \n",
    "tupla_nueva_parte = (nuevo_valor,)\n",
    "tupla_nueva_parte = (nuevo_valor,)\n",
    "nueva_tupla = tupla_sin_ultimo + tupla_nueva_parte\n",
    "\n",
    "print(nueva_tupla)"
   ]
  },
  {
   "cell_type": "markdown",
   "id": "c41b5029-07ea-486f-aacd-b95be17a319e",
   "metadata": {},
   "source": [
    "7. Dada la lista [1,2,3,4,5,6,7,8] escribe un programa que, a partir de esta lista, obtenga la lista [8,6,4,2] y la muestre por pantalla."
   ]
  },
  {
   "cell_type": "code",
   "execution_count": 41,
   "id": "5f7653b4-3594-4f64-95d2-426eee6468d9",
   "metadata": {},
   "outputs": [
    {
     "name": "stdout",
     "output_type": "stream",
     "text": [
      "[8, 6, 4, 2]\n"
     ]
    }
   ],
   "source": [
    "#Ejercicio 7\n",
    "\n",
    "lista = [1,2,3,4,5,6,7,8]\n",
    "lista2 = lista[::-2]\n",
    "print(lista2)"
   ]
  },
  {
   "cell_type": "markdown",
   "id": "fe19d812-3f26-4649-b68f-d45ecebd2037",
   "metadata": {},
   "source": [
    "\n",
    "8. Escribe un programa que, dada una tupla y un índice válido *i*, elimine el elemento de la tupla que se encuentra en la posición *i*. Para este ejercicio sólo puedes usar objetos de tipo tupla. No puedes convetir la *tupla* a una *lista*, por ejemplo."
   ]
  },
  {
   "cell_type": "code",
   "execution_count": 43,
   "id": "6d5d3540-3ba5-46ad-b0b1-3d3bf2a660c4",
   "metadata": {},
   "outputs": [
    {
     "name": "stdout",
     "output_type": "stream",
     "text": [
      "(10, 20, 40, 50, 60)\n"
     ]
    }
   ],
   "source": [
    "#Ejercicio 8\n",
    "\n",
    "tupla = (10,20,30,40,50,60)\n",
    "i = 2\n",
    "nueva_tupla = tupla[:i] + tupla[i+1:]\n",
    "\n",
    "print(nueva_tupla)"
   ]
  },
  {
   "cell_type": "markdown",
   "id": "44e288eb-2a04-4d77-aefb-b5d8653c25cc",
   "metadata": {},
   "source": [
    "9. Escribe un programa que obtenga la mediana de una *lista* de números. Recuerda que la mediana *M* de una lista de números *L* es el número que cumple la siguiente propiedad: la mitad de los números de *L* son superiores a *M* y la otra mitad son inferiores. Cuando el número de elementos de *L* es par, se puede considerar que hay dos medianas. No obstante, en este ejercicio consideraremos que únicamente existe una mediana."
   ]
  },
  {
   "cell_type": "code",
   "execution_count": 44,
   "id": "6cf656af-4515-4f39-b98e-4381b7819889",
   "metadata": {},
   "outputs": [
    {
     "name": "stdout",
     "output_type": "stream",
     "text": [
      "5\n"
     ]
    }
   ],
   "source": [
    "#Ejercicio 9\n",
    "\n",
    "lista = [7, 3, 1, 9, 5]\n",
    "lista_ordenada = sorted(lista)\n",
    "n = len(lista_ordenada)\n",
    "\n",
    "if n % 2 == 1:  # impar\n",
    "    mediana = lista_ordenada[n // 2]\n",
    "else:  # par\n",
    "    mediana = lista_ordenada[(n // 2) - 1]\n",
    "\n",
    "print(mediana)\n"
   ]
  },
  {
   "cell_type": "code",
   "execution_count": null,
   "id": "3d9a8b10-bfa4-4e08-af4f-727743e5f7a6",
   "metadata": {},
   "outputs": [],
   "source": []
  }
 ],
 "metadata": {
  "kernelspec": {
   "display_name": "Python 3 (ipykernel)",
   "language": "python",
   "name": "python3"
  },
  "language_info": {
   "codemirror_mode": {
    "name": "ipython",
    "version": 3
   },
   "file_extension": ".py",
   "mimetype": "text/x-python",
   "name": "python",
   "nbconvert_exporter": "python",
   "pygments_lexer": "ipython3",
   "version": "3.13.5"
  }
 },
 "nbformat": 4,
 "nbformat_minor": 5
}
