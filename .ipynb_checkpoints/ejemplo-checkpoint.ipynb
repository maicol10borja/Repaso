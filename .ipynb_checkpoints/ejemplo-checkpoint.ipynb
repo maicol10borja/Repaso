{
 "cells": [
  {
   "cell_type": "markdown",
   "id": "d3a51fb3-4870-4b7e-a6de-5fa14b05c1ae",
   "metadata": {},
   "source": [
    "## Introduccion\n",
    "<br>\n",
    "Este es un documento de Python que me permite entender las bases de este lenguaje de Programacion\n",
    "    <br>\n",
    "    <img src=\"https://programacion.net/files/article/20160603020635_python-logo.png\">\n",
    "    <br>\n",
    "    https://github.com/maicol10borja/LEARNING1.git\n",
    "    <br>\n",
    "    * Python lenguaje de Programacion\n",
    "    <br>"
   ]
  },
  {
   "cell_type": "code",
   "execution_count": 4,
   "id": "21e6edbb-6354-4255-b27c-466e4f3f9e1c",
   "metadata": {},
   "outputs": [
    {
     "ename": "IndentationError",
     "evalue": "unexpected indent (303917154.py, line 2)",
     "output_type": "error",
     "traceback": [
      "  \u001b[36mCell\u001b[39m\u001b[36m \u001b[39m\u001b[32mIn[4]\u001b[39m\u001b[32m, line 2\u001b[39m\n\u001b[31m    \u001b[39m\u001b[31ma = 5\u001b[39m\n    ^\n\u001b[31mIndentationError\u001b[39m\u001b[31m:\u001b[39m unexpected indent\n"
     ]
    }
   ],
   "source": [
    "# Esto es un comentario\n",
    "\n",
    "a = 5\n",
    "print(\"el resultado de a es:\", a)\n"
   ]
  },
  {
   "cell_type": "code",
   "execution_count": null,
   "id": "fa6d970f-92d1-4849-a6ee-4d9a66fe2654",
   "metadata": {},
   "outputs": [],
   "source": []
  }
 ],
 "metadata": {
  "kernelspec": {
   "display_name": "Python 3 (ipykernel)",
   "language": "python",
   "name": "python3"
  },
  "language_info": {
   "codemirror_mode": {
    "name": "ipython",
    "version": 3
   },
   "file_extension": ".py",
   "mimetype": "text/x-python",
   "name": "python",
   "nbconvert_exporter": "python",
   "pygments_lexer": "ipython3",
   "version": "3.13.5"
  }
 },
 "nbformat": 4,
 "nbformat_minor": 5
}
